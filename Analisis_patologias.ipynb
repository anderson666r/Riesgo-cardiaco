{
  "nbformat": 4,
  "nbformat_minor": 0,
  "metadata": {
    "colab": {
      "provenance": [],
      "authorship_tag": "ABX9TyPym/x4yYvANoe3GMQxMKBn",
      "include_colab_link": true
    },
    "kernelspec": {
      "name": "python3",
      "display_name": "Python 3"
    },
    "language_info": {
      "name": "python"
    }
  },
  "cells": [
    {
      "cell_type": "markdown",
      "metadata": {
        "id": "view-in-github",
        "colab_type": "text"
      },
      "source": [
        "<a href=\"https://colab.research.google.com/github/anderson666r/Riesgo-cardiaco/blob/main/Analisis_patologias.ipynb\" target=\"_parent\"><img src=\"https://colab.research.google.com/assets/colab-badge.svg\" alt=\"Open In Colab\"/></a>"
      ]
    },
    {
      "cell_type": "markdown",
      "source": [
        "\n",
        "# Código fuente\n",
        "\n",
        "A continuación se explica paso a paso el código implementado, estructurado en tres bloques: carga y preparación de datos, análisis con Spark (DataFrames y RDDs), y simulación del flujo en tiempo real."
      ],
      "metadata": {
        "id": "hwuvXDs4XltA"
      }
    },
    {
      "cell_type": "markdown",
      "source": [
        "Instalación y carga del entorno"
      ],
      "metadata": {
        "id": "xlGg18b1Xv22"
      }
    },
    {
      "cell_type": "code",
      "source": [
        "!pip install -q pyspark==3.5.1"
      ],
      "metadata": {
        "id": "bX7kFYHGXwgQ"
      },
      "execution_count": null,
      "outputs": []
    },
    {
      "cell_type": "markdown",
      "source": [
        "Se instala la versión requerida de PySpark en el entorno de Google Colab."
      ],
      "metadata": {
        "id": "EeYAEOj-X0b7"
      }
    },
    {
      "cell_type": "code",
      "source": [
        "from pyspark.sql import SparkSession\n",
        "from pyspark.sql import functions as F, types as T\n",
        "from pathlib import Path\n",
        "import shutil, time\n",
        "from datetime import datetime\n",
        "import threading, csv, os"
      ],
      "metadata": {
        "id": "HPzl8cNVX080"
      },
      "execution_count": null,
      "outputs": []
    },
    {
      "cell_type": "markdown",
      "source": [
        "Importación de librerías necesarias para Spark y manejo de archivos en el entorno."
      ],
      "metadata": {
        "id": "JzvIKSRTX6Rc"
      }
    },
    {
      "cell_type": "markdown",
      "source": [
        "# Carga de datos y creación de la sesión Spark"
      ],
      "metadata": {
        "id": "ShOcATzDX81b"
      }
    },
    {
      "cell_type": "code",
      "source": [
        "spark = SparkSession.builder.appName(\"HeartFailure-Tarea3\").getOrCreate()\n",
        "from google.colab import files\n",
        "uploaded = files.upload()"
      ],
      "metadata": {
        "id": "WXQ0OGBmYCDa"
      },
      "execution_count": null,
      "outputs": []
    },
    {
      "cell_type": "markdown",
      "source": [
        "Se crea la sesión de Spark y se carga el archivo local heart.csv en Colab."
      ],
      "metadata": {
        "id": "HM7heEhWYFdg"
      }
    },
    {
      "cell_type": "code",
      "source": [
        "DATA_PATH = \"/content/heart.csv\"\n",
        "df = spark.read.csv(DATA_PATH, header=True, inferSchema=True)"
      ],
      "metadata": {
        "id": "XF-hcSIAYGEM"
      },
      "execution_count": null,
      "outputs": []
    },
    {
      "cell_type": "markdown",
      "source": [
        "Se lee el archivo CSV como un DataFrame de Spark, infiriendo automáticamente los tipos de datos."
      ],
      "metadata": {
        "id": "eYrFyOYIYKkS"
      }
    },
    {
      "cell_type": "markdown",
      "source": [
        "# Exploración inicial y limpieza"
      ],
      "metadata": {
        "id": "RzWu8nJLYMZ9"
      }
    },
    {
      "cell_type": "code",
      "source": [
        "df.count()\n",
        "df.printSchema()\n",
        "df.show(5, truncate=False)\n",
        "df.summary().show()"
      ],
      "metadata": {
        "id": "Dc78GoWsYO_f"
      },
      "execution_count": null,
      "outputs": []
    },
    {
      "cell_type": "markdown",
      "source": [
        "Estas líneas permiten conocer la cantidad de registros, tipos de datos, una vista previa de los datos y estadísticas generales."
      ],
      "metadata": {
        "id": "ad8Vg5L9YQik"
      }
    },
    {
      "cell_type": "code",
      "source": [
        "nulls = df.select([F.sum(F.col(c).isNull().cast(\"int\")).alias(c) for c in df.columns])\n",
        "nulls.show(truncate=False)"
      ],
      "metadata": {
        "id": "XMy-MHPEYS6B"
      },
      "execution_count": null,
      "outputs": []
    },
    {
      "cell_type": "markdown",
      "source": [
        "Se genera una tabla con el conteo de valores nulos por columna."
      ],
      "metadata": {
        "id": "rcvZtWDOYU67"
      }
    },
    {
      "cell_type": "markdown",
      "source": [
        "# Transformaciones clínicas"
      ],
      "metadata": {
        "id": "8oINj_gNYYOK"
      }
    },
    {
      "cell_type": "code",
      "source": [
        "# Clasificación por grupo de edad clínica\n",
        "df = df.withColumn(\"age_group\",\n",
        "F.when(F.col(\"Age\") < 14, \"Niño\")\n",
        ".when((F.col(\"Age\") >= 14) & (F.col(\"Age\") <= 26), \"Joven\")\n",
        ".when((F.col(\"Age\") >= 27) & (F.col(\"Age\") <= 59), \"Adulto\")\n",
        ".otherwise(\"Mayor\")\n",
        ")\n",
        "\n",
        "\n",
        "# Indicadores clínicos de riesgo\n",
        "df = df.withColumn(\"bp_risk\",\n",
        "F.when((F.col(\"RestingBP\") < 90) | (F.col(\"RestingBP\") > 120), 1).otherwise(0))\n",
        "\n",
        "\n",
        "df = df.withColumn(\"chol_risk\",\n",
        "F.when(F.col(\"Cholesterol\") >= 200, 1).otherwise(0))"
      ],
      "metadata": {
        "id": "-_5_eAmwYb_L"
      },
      "execution_count": null,
      "outputs": []
    },
    {
      "cell_type": "markdown",
      "source": [
        "Se agregan columnas que clasifican a los pacientes por edad y marcan condiciones de riesgo en presión arterial y colesterol."
      ],
      "metadata": {
        "id": "44ZxS26KYd3k"
      }
    },
    {
      "cell_type": "markdown",
      "source": [
        "# Análisis con DataFrames"
      ],
      "metadata": {
        "id": "J2lDC9gKYf5i"
      }
    },
    {
      "cell_type": "code",
      "source": [
        "# Conteo por grupo de edad y enfermedad cardíaca\n",
        "df.groupBy(\"age_group\", \"HeartDisease\").count().orderBy(\"age_group\", \"HeartDisease\").show()\n",
        "\n",
        "\n",
        "# Riesgo por presión y colesterol\n",
        "df.groupBy(\"age_group\").agg(\n",
        "F.sum(\"bp_risk\").alias(\"con_riesgo_presion\"),\n",
        "F.sum(\"chol_risk\").alias(\"con_riesgo_colesterol\")\n",
        ").orderBy(\"age_group\").show()\n",
        "\n",
        "\n",
        "# Combinación de factores clínicos\n",
        "df.groupBy(\"age_group\", \"HeartDisease\", \"FastingBS\", \"bp_risk\", \"chol_risk\")\\\n",
        ".count().orderBy(\"age_group\").show(truncate=False)"
      ],
      "metadata": {
        "id": "g9b5ZI7WYiWx"
      },
      "execution_count": null,
      "outputs": []
    },
    {
      "cell_type": "markdown",
      "source": [
        "Se realizan distintos agrupamientos para analizar la distribución de los riesgos clínicos por grupo de edad."
      ],
      "metadata": {
        "id": "ZedLMTEfYkSu"
      }
    },
    {
      "cell_type": "markdown",
      "source": [
        "# Análisis con RDDs"
      ],
      "metadata": {
        "id": "5q9q1_5CYmxE"
      }
    },
    {
      "cell_type": "code",
      "source": [
        "rdd = df.select(\"Age\", \"HeartDisease\", \"MaxHR\", \"bp_risk\", \"chol_risk\").rdd\n",
        "\n",
        "\n",
        "def en_riesgo(fila):\n",
        "return (\n",
        "fila[\"HeartDisease\"] == 1 and\n",
        "(fila[\"bp_risk\"] == 1 or fila[\"chol_risk\"] == 1) and\n",
        "(fila[\"MaxHR\"] < 60 or fila[\"MaxHR\"] > 180)\n",
        ")\n",
        "\n",
        "\n",
        "rdd_filtrado = rdd.filter(en_riesgo)\n",
        "print(\"Pacientes con riesgo múltiple:\", rdd_filtrado.count())"
      ],
      "metadata": {
        "id": "cNBnoN5SYpYJ"
      },
      "execution_count": null,
      "outputs": []
    },
    {
      "cell_type": "markdown",
      "source": [
        "Se convierte el DataFrame a RDD para aplicar un filtro más flexible que identifique pacientes con múltiples riesgos simultáneos."
      ],
      "metadata": {
        "id": "LiZLWPg5Ysbr"
      }
    },
    {
      "cell_type": "markdown",
      "source": [
        "# Simulación de flujo de datos (Kafka)"
      ],
      "metadata": {
        "id": "EJMiD5qrYwt3"
      }
    },
    {
      "cell_type": "code",
      "source": [
        "import pandas as pd\n",
        "import os\n",
        "\n",
        "\n",
        "# División del CSV en lotes\n",
        "streaming_dir = \"/content/streaming_input\"\n",
        "os.makedirs(streaming_dir, exist_ok=True)\n",
        "\n",
        "\n",
        "batch_size = 100\n",
        "for i in range((len(df)//batch_size)+1):\n",
        "batch_df = df.iloc[i*batch_size:(i+1)*batch_size]\n",
        "batch_df.to_csv(f\"{streaming_dir}/batch_{i}.csv\", index=False)"
      ],
      "metadata": {
        "id": "NZmXm0SVYzLr"
      },
      "execution_count": null,
      "outputs": []
    },
    {
      "cell_type": "markdown",
      "source": [
        "Se divide el dataset original en archivos pequeños para simular la llegada progresiva de datos como lo haría Kafka."
      ],
      "metadata": {
        "id": "0ZXw8oNlY1hs"
      }
    },
    {
      "cell_type": "markdown",
      "source": [
        "# Proceso simulado de Spark Streaming"
      ],
      "metadata": {
        "id": "k9YIDvVWY3JR"
      }
    },
    {
      "cell_type": "code",
      "source": [
        "from pyspark.sql import SparkSession\n",
        "from pyspark.sql import functions as F\n",
        "from pathlib import Path\n",
        "import time\n",
        "\n",
        "\n",
        "spark = SparkSession.builder.appName(\"HeartStreamingSim\").getOrCreate()\n",
        "streaming_dir = Path(\"/content/streaming_input\")\n",
        "archivos = sorted(streaming_dir.glob(\"batch_*.csv\"))\n",
        "df_acumulado = None\n",
        "\n",
        "\n",
        "for archivo in archivos:\n",
        "df_lote = spark.read.csv(str(archivo), header=True, inferSchema=True)\n",
        "df_acumulado = df_lote if df_acumulado is None else df_acumulado.union(df_lote)\n",
        "\n",
        "\n",
        "df_filtrado = df_acumulado.withColumn(\"chol_risk\", F.when(F.col(\"Cholesterol\") >= 200, 1).otherwise(0))\n",
        "print(f\"\n",
        "🟢 Procesando: {archivo.name}\")\n",
        "print(\"🔹 Total acumulado:\", df_filtrado.count())\n",
        "print(\" - Colesterol alto (≥200):\", df_filtrado.filter(\"chol_risk == 1\").count())\n",
        "print(\" - Con enfermedad cardíaca:\", df_filtrado.filter(\"HeartDisease == 1\").count())\n",
        "time.sleep(3)"
      ],
      "metadata": {
        "id": "3va3nL4zY7Da"
      },
      "execution_count": null,
      "outputs": []
    },
    {
      "cell_type": "markdown",
      "source": [
        "Este bloque lee cada archivo como si fuera un lote de datos recién llegado, acumula los datos previos y muestra en consola estadísticas acumuladas. El sleep(3) simula un retardo realista entre eventos."
      ],
      "metadata": {
        "id": "7S3pkISYY-Go"
      }
    }
  ]
}